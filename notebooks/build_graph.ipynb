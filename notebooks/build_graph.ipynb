{
 "cells": [
  {
   "cell_type": "code",
   "execution_count": 1,
   "metadata": {},
   "outputs": [],
   "source": [
    "import pandas as pd\n",
    "import networkx as nx\n",
    "import matplotlib\n",
    "import scipy"
   ]
  },
  {
   "cell_type": "code",
   "execution_count": 2,
   "metadata": {},
   "outputs": [],
   "source": [
    "import matplotlib.pyplot as plt\n",
    "plt.rcParams['figure.figsize'] = [17, 8]\n",
    "%matplotlib notebook"
   ]
  },
  {
   "cell_type": "code",
   "execution_count": 3,
   "metadata": {},
   "outputs": [],
   "source": [
    "pd.set_option('display.max_rows', 500)\n",
    "pd.set_option('display.max_columns', 500)\n",
    "pd.set_option('display.width', 1000)"
   ]
  },
  {
   "cell_type": "code",
   "execution_count": 14,
   "metadata": {},
   "outputs": [],
   "source": [
    "dataset_unidades = pd.read_json(\"../dataset/departments.json\")"
   ]
  },
  {
   "cell_type": "markdown",
   "metadata": {},
   "source": [
    "# Verify idUnidade uniqueness"
   ]
  },
  {
   "cell_type": "code",
   "execution_count": 5,
   "metadata": {},
   "outputs": [
    {
     "name": "stdout",
     "output_type": "stream",
     "text": [
      "idUnidade is unique: True\n"
     ]
    }
   ],
   "source": [
    "unidade_ids = dataset_unidades[\"idUnidade\"].unique()\n",
    "print(\"idUnidade is unique: {0}\".format(len(unidade_ids) == len(dataset_unidades[\"idUnidade\"])))"
   ]
  },
  {
   "cell_type": "markdown",
   "metadata": {},
   "source": [
    "# Verify whether graph is connected"
   ]
  },
  {
   "cell_type": "code",
   "execution_count": 6,
   "metadata": {},
   "outputs": [],
   "source": [
    "parents = list()\n",
    "for i in dataset_unidades[\"hierarquiaUnidade\"]:\n",
    "    parents.append(i.split(\".\")[1])"
   ]
  },
  {
   "cell_type": "code",
   "execution_count": 7,
   "metadata": {},
   "outputs": [],
   "source": [
    "unique_parents_ids = pd.Series(parents).unique()"
   ]
  },
  {
   "cell_type": "code",
   "execution_count": 8,
   "metadata": {},
   "outputs": [
    {
     "name": "stdout",
     "output_type": "stream",
     "text": [
      "Grafico possui 0 orfãos\n"
     ]
    }
   ],
   "source": [
    "\"\"\"\n",
    "    For each department, check if its ancestor exists.\n",
    "\"\"\"\n",
    "nOrphans = 0\n",
    "for value in list(unique_parents_ids):\n",
    "    if int(value) not in list(unidade_ids):\n",
    "        nOrphans += 1\n",
    "print(\"Grafico possui {0} orfãos\".format(nOrphans))"
   ]
  },
  {
   "cell_type": "markdown",
   "metadata": {},
   "source": [
    "# Get edges"
   ]
  },
  {
   "cell_type": "code",
   "execution_count": 9,
   "metadata": {
    "scrolled": true
   },
   "outputs": [],
   "source": [
    "\"\"\"\n",
    "    For each hierarchy string apply: (\"x.y.z.w\") -> [(x,y), (y,z), (z,w)] \n",
    "\"\"\"\n",
    "edges = list()\n",
    "for hierarquia in dataset_unidades[\"hierarquiaUnidade\"]:\n",
    "    nos = hierarquia.split(\".\")[1:-1]\n",
    "    for index_no in range(len(nos)):\n",
    "        try:\n",
    "            edge = (int(nos[index_no]), int(nos[index_no+1]))\n",
    "            if edge not in edges:\n",
    "                edges.append(edge)\n",
    "        except:\n",
    "            pass"
   ]
  },
  {
   "cell_type": "markdown",
   "metadata": {},
   "source": [
    "# Graph\n"
   ]
  },
  {
   "cell_type": "code",
   "execution_count": 10,
   "metadata": {},
   "outputs": [],
   "source": [
    "G = nx.DiGraph()\n",
    "\"\"\"\n",
    "    Get node metadada from datasource columns.\n",
    "    \n",
    "    Build DiGraph from nodes and edges\n",
    "\"\"\"\n",
    "for unidade in dataset_unidades.iterrows():\n",
    "    idUnidade = unidade[1][\"idUnidade\"]\n",
    "    attrs = dict()\n",
    "    for key in unidade[1].index:\n",
    "        attrs[key] = unidade[1][key]\n",
    "    G.add_node(idUnidade, **attrs)\n",
    "G.add_edges_from(edges)\n",
    "G.remove_edge(605,605)"
   ]
  },
  {
   "cell_type": "code",
   "execution_count": 11,
   "metadata": {},
   "outputs": [],
   "source": [
    "dag = nx.algorithms.dag"
   ]
  },
  {
   "cell_type": "code",
   "execution_count": 12,
   "metadata": {},
   "outputs": [
    {
     "name": "stdout",
     "output_type": "stream",
     "text": [
      "G is Directed Acyclic: True\n"
     ]
    }
   ],
   "source": [
    "print(\"G is Directed Acyclic: {0}\".format(dag.is_directed_acyclic_graph(G)))"
   ]
  },
  {
   "cell_type": "code",
   "execution_count": 13,
   "metadata": {},
   "outputs": [],
   "source": [
    "nx.write_graphml(G, \"../output/departments.graphml\")"
   ]
  }
 ],
 "metadata": {
  "kernelspec": {
   "display_name": "Python 3",
   "language": "python",
   "name": "python3"
  },
  "language_info": {
   "codemirror_mode": {
    "name": "ipython",
    "version": 3
   },
   "file_extension": ".py",
   "mimetype": "text/x-python",
   "name": "python",
   "nbconvert_exporter": "python",
   "pygments_lexer": "ipython3",
   "version": "3.6.7"
  }
 },
 "nbformat": 4,
 "nbformat_minor": 2
}
